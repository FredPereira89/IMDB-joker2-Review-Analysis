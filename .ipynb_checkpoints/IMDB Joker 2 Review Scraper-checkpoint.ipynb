{
 "cells": [
  {
   "cell_type": "code",
   "execution_count": 14,
   "id": "8528f42e-7174-4de8-b2d6-3aea9477a73c",
   "metadata": {},
   "outputs": [],
   "source": [
    "from selenium import webdriver\n",
    "from selenium.webdriver.common.by import By\n",
    "from selenium.webdriver.common.action_chains import ActionChains\n",
    "from selenium.webdriver.support.ui import WebDriverWait\n",
    "from selenium.webdriver.support import expected_conditions as EC\n",
    "from bs4 import BeautifulSoup\n",
    "import pandas as pd\n",
    "import time\n",
    "from selenium.webdriver.chrome.service import Service\n",
    "from tqdm import tqdm"
   ]
  },
  {
   "cell_type": "code",
   "execution_count": 15,
   "id": "267564db-9602-4fc5-b5e7-8f3885b86a2f",
   "metadata": {},
   "outputs": [
    {
     "name": "stderr",
     "output_type": "stream",
     "text": [
      "Loading reviews: 91scroll [08:01,  5.29s/scroll]"
     ]
    },
    {
     "name": "stdout",
     "output_type": "stream",
     "text": [
      "No more reviews to load or an error occurred: Message: \n",
      "Stacktrace:\n",
      "\tGetHandleVerifier [0x00007FF63EA06CC5+28821]\n",
      "\t(No symbol) [0x00007FF63E973850]\n",
      "\t(No symbol) [0x00007FF63E81578A]\n",
      "\t(No symbol) [0x00007FF63E8691BE]\n",
      "\t(No symbol) [0x00007FF63E8694AC]\n",
      "\t(No symbol) [0x00007FF63E8B2647]\n",
      "\t(No symbol) [0x00007FF63E88F33F]\n",
      "\t(No symbol) [0x00007FF63E8AF412]\n",
      "\t(No symbol) [0x00007FF63E88F0A3]\n",
      "\t(No symbol) [0x00007FF63E85A778]\n",
      "\t(No symbol) [0x00007FF63E85B8E1]\n",
      "\tGetHandleVerifier [0x00007FF63ED3FCCD+3408029]\n",
      "\tGetHandleVerifier [0x00007FF63ED5743F+3504143]\n",
      "\tGetHandleVerifier [0x00007FF63ED4B61D+3455469]\n",
      "\tGetHandleVerifier [0x00007FF63EACBDCB+835995]\n",
      "\t(No symbol) [0x00007FF63E97EB6F]\n",
      "\t(No symbol) [0x00007FF63E97A824]\n",
      "\t(No symbol) [0x00007FF63E97A9BD]\n",
      "\t(No symbol) [0x00007FF63E96A1A9]\n",
      "\tBaseThreadInitThunk [0x00007FFB4D797374+20]\n",
      "\tRtlUserThreadStart [0x00007FFB4F33CC91+33]\n",
      "\n"
     ]
    },
    {
     "name": "stderr",
     "output_type": "stream",
     "text": [
      "\n",
      "Extracting reviews: 100%|███████████████████████████████████████████████████| 1675/1675 [00:00<00:00, 20939.20review/s]"
     ]
    },
    {
     "name": "stdout",
     "output_type": "stream",
     "text": [
      "Reviews saved to joker2_reviews.csv\n"
     ]
    },
    {
     "name": "stderr",
     "output_type": "stream",
     "text": [
      "\n"
     ]
    }
   ],
   "source": [
    "driver_path = r\"C:\\Users\\user\\Documents\\Python stuff\\IMDB Text Analytics\\chromedriver.exe\"\n",
    "service = Service(driver_path)\n",
    "driver = webdriver.Chrome(service=service)\n",
    "\n",
    "# IMDb reviews URL\n",
    "url = \"https://www.imdb.com/title/tt11315808/reviews/\"\n",
    "driver.get(url)\n",
    "\n",
    "# Wait for the \"Load More\" button to appear\n",
    "wait = WebDriverWait(driver, 12)\n",
    "\n",
    "# Simulate loading reviews dynamically\n",
    "scroll_count = 0\n",
    "try:\n",
    "    pbar = tqdm(desc=\"Loading reviews\", unit=\"scroll\")  # Progress bar for loading reviews\n",
    "    while True:\n",
    "        # Find the button\n",
    "        load_more_button = wait.until(EC.element_to_be_clickable((By.CLASS_NAME, \"ipc-see-more__button\")))\n",
    "\n",
    "        # Scroll to the button to ensure it is visible\n",
    "        driver.execute_script(\"arguments[0].scrollIntoView(true);\", load_more_button)\n",
    "\n",
    "        # Handle overlapping elements (e.g., popups or modals)\n",
    "        try:\n",
    "            load_more_button.click()\n",
    "        except Exception as e:\n",
    "            print(f\"Error clicking 'Load More' button: {e}\")\n",
    "            # Attempt to dismiss any modal/popups that might block the button\n",
    "            overlays = driver.find_elements(By.CLASS_NAME, \"sc-kDvujY\")\n",
    "            for overlay in overlays:\n",
    "                try:\n",
    "                    driver.execute_script(\"arguments[0].style.display = 'none';\", overlay)\n",
    "                except Exception as dismiss_error:\n",
    "                    print(f\"Failed to dismiss overlay: {dismiss_error}\")\n",
    "            continue\n",
    "\n",
    "        time.sleep(5)  # Allow time for reviews to load\n",
    "        scroll_count += 1\n",
    "        pbar.update(1)  # Update the progress bar\n",
    "except Exception as e:\n",
    "    print(\"No more reviews to load or an error occurred:\", e)\n",
    "finally:\n",
    "    pbar.close()  # Close the progress bar\n",
    "\n",
    "# Get the full page source after dynamic loading\n",
    "html_content = driver.page_source\n",
    "\n",
    "# Close the WebDriver\n",
    "driver.quit()\n",
    "\n",
    "# Parse the loaded page with BeautifulSoup\n",
    "soup = BeautifulSoup(html_content, 'html.parser')\n",
    "\n",
    "# Extract reviews\n",
    "review_containers = soup.find_all('div', class_='ipc-html-content-inner-div', role='presentation')\n",
    "\n",
    "# Progress bar for extracting reviews\n",
    "pbar = tqdm(total=len(review_containers), desc=\"Extracting reviews\", unit=\"review\")\n",
    "extracted_reviews = []\n",
    "for container in review_containers:\n",
    "    try:\n",
    "        # Extract review text\n",
    "        review_text = container.text.strip()\n",
    "\n",
    "        # Locate the parent or surrounding context to extract rating and summary\n",
    "        parent_block = container.find_parent('article') if container else None\n",
    "\n",
    "        # Extract rating\n",
    "        rating_tag = parent_block.find('span', class_='ipc-rating-star--rating') if parent_block else None\n",
    "        rating = rating_tag.text.strip() if rating_tag else \"No Rating\"\n",
    "\n",
    "        # Extract review summary\n",
    "        summary_tag = parent_block.find('h3', class_='ipc-title__text') if parent_block else None\n",
    "        summary = summary_tag.text.strip() if summary_tag else \"No Summary\"\n",
    "\n",
    "        # Append extracted data\n",
    "        extracted_reviews.append({\n",
    "            'Rating': rating,\n",
    "            'Summary': summary,\n",
    "            'Review': review_text\n",
    "        })\n",
    "    except Exception as e:\n",
    "        print(f\"Error extracting review: {e}\")\n",
    "    pbar.update(1)  # Update the progress bar\n",
    "pbar.close()  # Close the progress bar\n",
    "\n",
    "# Save to DataFrame and CSV\n",
    "final_reviews_df = pd.DataFrame(extracted_reviews)\n",
    "final_csv_path = 'joker2_reviews.csv'\n",
    "final_reviews_df.to_csv(final_csv_path, index=False)\n",
    "\n",
    "print(f\"Reviews saved to {final_csv_path}\")"
   ]
  },
  {
   "cell_type": "code",
   "execution_count": null,
   "id": "1cd31e06-59c8-48db-b985-7be598b044b3",
   "metadata": {},
   "outputs": [],
   "source": []
  }
 ],
 "metadata": {
  "kernelspec": {
   "display_name": "Python 3 (ipykernel)",
   "language": "python",
   "name": "python3"
  },
  "language_info": {
   "codemirror_mode": {
    "name": "ipython",
    "version": 3
   },
   "file_extension": ".py",
   "mimetype": "text/x-python",
   "name": "python",
   "nbconvert_exporter": "python",
   "pygments_lexer": "ipython3",
   "version": "3.13.1"
  }
 },
 "nbformat": 4,
 "nbformat_minor": 5
}
